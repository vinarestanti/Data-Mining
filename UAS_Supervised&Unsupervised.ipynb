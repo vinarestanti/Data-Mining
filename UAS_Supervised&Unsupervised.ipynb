{
  "nbformat": 4,
  "nbformat_minor": 0,
  "metadata": {
    "colab": {
      "provenance": [],
      "authorship_tag": "ABX9TyOWwjE3bayNn9rdk3evXRMM",
      "include_colab_link": true
    },
    "kernelspec": {
      "name": "python3",
      "display_name": "Python 3"
    },
    "language_info": {
      "name": "python"
    }
  },
  "cells": [
    {
      "cell_type": "markdown",
      "metadata": {
        "id": "view-in-github",
        "colab_type": "text"
      },
      "source": [
        "<a href=\"https://colab.research.google.com/github/vinarestanti/Data-Mining/blob/main/UAS_Supervised%26Unsupervised.ipynb\" target=\"_parent\"><img src=\"https://colab.research.google.com/assets/colab-badge.svg\" alt=\"Open In Colab\"/></a>"
      ]
    },
    {
      "cell_type": "markdown",
      "source": [
        "**Nama : Vina Restanti**\n",
        "\n",
        "**Nim  : G.231.22.0044**"
      ],
      "metadata": {
        "id": "3EEPwmlpDSTH"
      }
    },
    {
      "cell_type": "markdown",
      "source": [
        "# **Supervised Learning: Predicting House Prices with Linear Regression**"
      ],
      "metadata": {
        "id": "vP8fwIeyDFzq"
      }
    },
    {
      "cell_type": "code",
      "source": [
        "import pandas as pd\n",
        "from sklearn.model_selection import train_test_split\n",
        "from sklearn.linear_model import LinearRegression\n",
        "from sklearn.metrics import mean_squared_error\n",
        "\n",
        "# URL dataset harga rumah\n",
        "url = \"https://raw.githubusercontent.com/selva86/datasets/master/BostonHousing.csv\"\n",
        "\n",
        "# Membaca dataset\n",
        "data = pd.read_csv(url)\n",
        "\n",
        "# Melihat beberapa baris pertama dari dataset\n",
        "print(data.head())\n",
        "\n",
        "# Memilih fitur dan target\n",
        "X = data.drop(columns=['medv'])  # Fitur\n",
        "y = data['medv']  # Target\n",
        "\n",
        "# Membagi dataset menjadi training dan testing set\n",
        "X_train, X_test, y_train, y_test = train_test_split(X, y, test_size=0.3, random_state=42)\n",
        "\n",
        "# Membuat dan melatih model Linear Regression\n",
        "model = LinearRegression()\n",
        "model.fit(X_train, y_train)\n",
        "\n",
        "# Memprediksi harga rumah pada test set\n",
        "y_pred = model.predict(X_test)\n",
        "\n",
        "# Menghitung Mean Squared Error\n",
        "mse = mean_squared_error(y_test, y_pred)\n",
        "print(f'Mean Squared Error: {mse}')\n"
      ],
      "metadata": {
        "colab": {
          "base_uri": "https://localhost:8080/"
        },
        "id": "M8mx5ofWirD3",
        "outputId": "a939dbe9-a9b0-42c7-9db3-55f2a1adc1f1"
      },
      "execution_count": null,
      "outputs": [
        {
          "output_type": "stream",
          "name": "stdout",
          "text": [
            "      crim    zn  indus  chas    nox     rm   age     dis  rad  tax  ptratio  \\\n",
            "0  0.00632  18.0   2.31     0  0.538  6.575  65.2  4.0900    1  296     15.3   \n",
            "1  0.02731   0.0   7.07     0  0.469  6.421  78.9  4.9671    2  242     17.8   \n",
            "2  0.02729   0.0   7.07     0  0.469  7.185  61.1  4.9671    2  242     17.8   \n",
            "3  0.03237   0.0   2.18     0  0.458  6.998  45.8  6.0622    3  222     18.7   \n",
            "4  0.06905   0.0   2.18     0  0.458  7.147  54.2  6.0622    3  222     18.7   \n",
            "\n",
            "        b  lstat  medv  \n",
            "0  396.90   4.98  24.0  \n",
            "1  396.90   9.14  21.6  \n",
            "2  392.83   4.03  34.7  \n",
            "3  394.63   2.94  33.4  \n",
            "4  396.90   5.33  36.2  \n",
            "Mean Squared Error: 21.517444231177183\n"
          ]
        }
      ]
    },
    {
      "cell_type": "markdown",
      "source": [
        "# **Unsupervised Learning: Clustering House Prices with KMeans**"
      ],
      "metadata": {
        "id": "RDVmmH4HDOAt"
      }
    },
    {
      "cell_type": "code",
      "source": [
        "import pandas as pd\n",
        "from sklearn.cluster import KMeans\n",
        "import matplotlib.pyplot as plt\n",
        "\n",
        "# URL dataset harga rumah\n",
        "url = \"https://raw.githubusercontent.com/selva86/datasets/master/BostonHousing.csv\"\n",
        "\n",
        "# Membaca dataset\n",
        "data = pd.read_csv(url)\n",
        "\n",
        "# Memilih fitur untuk clustering\n",
        "X = data.drop(columns=['medv'])  # Fitur\n",
        "\n",
        "# Membuat dan melatih model KMeans\n",
        "kmeans = KMeans(n_clusters=3, random_state=42)\n",
        "kmeans.fit(X)\n",
        "\n",
        "# Mendapatkan label cluster\n",
        "labels = kmeans.labels_\n",
        "\n",
        "# Visualisasi cluster berdasarkan dua fitur pertama\n",
        "plt.scatter(X.iloc[:, 0], X.iloc[:, 1], c=labels, cmap='viridis')\n",
        "plt.xlabel(X.columns[0])\n",
        "plt.ylabel(X.columns[1])\n",
        "plt.title('KMeans Clustering of House Prices Dataset')\n",
        "plt.show()\n"
      ],
      "metadata": {
        "colab": {
          "base_uri": "https://localhost:8080/",
          "height": 529
        },
        "id": "QjXQUYn4C6ij",
        "outputId": "892b587f-c31f-4718-862e-fac18b647e88"
      },
      "execution_count": null,
      "outputs": [
        {
          "output_type": "stream",
          "name": "stderr",
          "text": [
            "/usr/local/lib/python3.10/dist-packages/sklearn/cluster/_kmeans.py:870: FutureWarning: The default value of `n_init` will change from 10 to 'auto' in 1.4. Set the value of `n_init` explicitly to suppress the warning\n",
            "  warnings.warn(\n"
          ]
        },
        {
          "output_type": "display_data",
          "data": {
            "text/plain": [
              "<Figure size 640x480 with 1 Axes>"
            ],
            "image/png": "[encoded data removed]"
          },
          "metadata": {}
        }
      ]
    }
  ]
}